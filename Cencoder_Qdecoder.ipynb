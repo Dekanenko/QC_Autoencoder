{
  "nbformat": 4,
  "nbformat_minor": 0,
  "metadata": {
    "colab": {
      "provenance": []
    },
    "kernelspec": {
      "name": "python3",
      "display_name": "Python 3"
    },
    "language_info": {
      "name": "python"
    }
  },
  "cells": [
    {
      "cell_type": "code",
      "execution_count": 3,
      "metadata": {
        "id": "f5dT1jfXcK0a"
      },
      "outputs": [],
      "source": [
        "# !pip install pennylane\n",
        "# !pip install pennylane-qiskit"
      ]
    },
    {
      "cell_type": "code",
      "source": [
        "import pennylane as qml\n",
        "import torch\n",
        "import numpy as np\n",
        "import pandas as pd\n",
        "from torch.utils.data import DataLoader\n",
        "\n",
        "import matplotlib.pyplot as plt\n",
        "from PIL import Image"
      ],
      "metadata": {
        "id": "ahKF11sucLz1"
      },
      "execution_count": 4,
      "outputs": []
    },
    {
      "cell_type": "code",
      "source": [
        "image = Image.open(\"1.png\").convert('L')\n",
        "# process image\n",
        "input_image = image.resize((16, 16))\n",
        "input_image = np.array(input_image)\n",
        "input_image = (input_image - np.min(input_image))/(np.max(input_image) - np.min(input_image))\n",
        "\n",
        "plt.imshow(input_image, cmap='gray')\n",
        "input_image = np.expand_dims(input_image, axis=0)"
      ],
      "metadata": {
        "colab": {
          "base_uri": "https://localhost:8080/",
          "height": 430
        },
        "id": "oHUTQAtvdhvl",
        "outputId": "bbaff8d9-203b-4652-f78f-c231a9c2788a"
      },
      "execution_count": 6,
      "outputs": [
        {
          "output_type": "display_data",
          "data": {
            "text/plain": [
              "<Figure size 640x480 with 1 Axes>"
            ],
            "image/png": "[encoded data removed]"
          },
          "metadata": {}
        }
      ]
    },
    {
      "cell_type": "code",
      "source": [
        "# encoder = torch.nn.Sequential(\n",
        "#     torch.nn.Conv2d(in_channels = 1, out_channels = 32, kernel_size = 3, stride=1, padding=\"valid\"),\n",
        "#     torch.nn.Conv2d(in_channels = 32, out_channels = 16, kernel_size = 3, stride=1, padding=\"valid\"),\n",
        "#     torch.nn.Conv2d(in_channels = 16, out_channels = 16, kernel_size = 3, stride=1, padding=\"valid\"),\n",
        "#     torch.nn.Conv2d(in_channels = 16, out_channels = 8, kernel_size = 3, stride=1, padding=\"valid\"),\n",
        "#     torch.nn.Conv2d(in_channels = 8, out_channels = 4, kernel_size = 3, stride=1, padding=\"valid\"),\n",
        "# )\n",
        "\n",
        "encoder = torch.nn.Sequential(\n",
        "    torch.nn.Conv2d(in_channels = 1, out_channels = 16, kernel_size = 3, stride=1, padding=\"valid\"),\n",
        "    torch.nn.ReLU(),\n",
        "    torch.nn.Conv2d(in_channels = 16, out_channels = 16, kernel_size = 3, stride=1, padding=\"valid\"),\n",
        "    torch.nn.ReLU(),\n",
        "    torch.nn.Conv2d(in_channels = 16, out_channels = 8, kernel_size = 5, stride=1, padding=\"valid\"),\n",
        "    torch.nn.ReLU(),\n",
        "    torch.nn.Conv2d(in_channels = 8, out_channels = 5, kernel_size = 3, stride=1, padding=\"valid\"),\n",
        "    torch.nn.Sigmoid(),\n",
        ")\n",
        "\n",
        "encoder = encoder.double()"
      ],
      "metadata": {
        "id": "zxbYvSRYpcwu"
      },
      "execution_count": 156,
      "outputs": []
    },
    {
      "cell_type": "code",
      "source": [
        "# out = encoder(torch.from_numpy(input_image))\n",
        "# out.shape"
      ],
      "metadata": {
        "id": "KOOWkuN8so9U"
      },
      "execution_count": 157,
      "outputs": []
    },
    {
      "cell_type": "code",
      "source": [
        "def data_shape_transform(data, n_qubits=8):\n",
        "  data = data.detach().numpy()\n",
        "  data = np.reshape(data, (-1))\n",
        "  out = []\n",
        "  col_num = int(np.ceil(len(data)/n_qubits))\n",
        "  for i in range(n_qubits):\n",
        "    tmp = []\n",
        "    for j in range(col_num):\n",
        "      if i*col_num+j >= len(data):\n",
        "        break\n",
        "\n",
        "      tmp.append(data[i*col_num+j])\n",
        "\n",
        "    out.append(tmp)\n",
        "\n",
        "  return out, len(data)\n"
      ],
      "metadata": {
        "id": "uVpFpvmlwdFv"
      },
      "execution_count": 158,
      "outputs": []
    },
    {
      "cell_type": "code",
      "source": [
        "def data_embedding(data, n_qubits=8):\n",
        "  data, data_len = data_shape_transform(data, n_qubits=n_qubits)\n",
        "\n",
        "  flag = 1\n",
        "  col_num = int(np.ceil(data_len/n_qubits))\n",
        "  qml.broadcast(qml.Hadamard, wires=range(n_qubits), pattern=\"single\")\n",
        "\n",
        "  for j in range(col_num):\n",
        "    for i in range(n_qubits):\n",
        "      if i*col_num+j >= data_len:\n",
        "        break\n",
        "\n",
        "      if flag == 1:\n",
        "        qml.RZ(data[i][j], wires=i)\n",
        "      else:\n",
        "        qml.RX(data[i][j], wires=i)\n",
        "\n",
        "    flag *= -1\n",
        ""
      ],
      "metadata": {
        "id": "ZyBWY-31yo0V"
      },
      "execution_count": 159,
      "outputs": []
    },
    {
      "cell_type": "code",
      "source": [
        "# def apply_weights(weights, n_qubits=8):\n",
        "#   for j in range(0, len(weights[0]), 2):\n",
        "#     for i in range(len(weights)):\n",
        "#       qml.RY(weights[i][j], wires=i)\n",
        "#       qml.RZ(weights[i][j+1], wires=i)\n",
        "\n",
        "#     for l in range(len(weights)):\n",
        "#       if (l == (len(weights) - 1)):\n",
        "#         qml.CNOT(wires=[l,0])\n",
        "#       else:\n",
        "#         qml.CNOT(wires=[l,l+1])\n",
        "\n",
        "def apply_weights(weights, n_qubits=8):\n",
        "\n",
        "  for i in range(len(weights)):\n",
        "\n",
        "    for j in range(n_qubits):\n",
        "      qml.RZ(weights[i][j], wires=j)\n",
        "\n",
        "    index = j\n",
        "    flag = 1\n",
        "    for k in range(n_qubits):\n",
        "      for j in range(n_qubits):\n",
        "        if k == j:\n",
        "          continue\n",
        "        index += 1\n",
        "        if flag == 1:\n",
        "          qml.CRX(weights[i][index], wires=[k, j])\n",
        "        else:\n",
        "          qml.CRY(weights[i][index], wires=[k, j])\n",
        "\n",
        "      flag *= -1\n",
        "\n",
        "    for j in range(n_qubits):\n",
        "      qml.RZ(weights[i][index+j], wires=j)"
      ],
      "metadata": {
        "id": "TTgO4T7s46hu"
      },
      "execution_count": 160,
      "outputs": []
    },
    {
      "cell_type": "code",
      "source": [
        "def train_loop(dataloader, model, loss_fn, optimizer):\n",
        "    size = len(dataloader.dataset)\n",
        "    model.train()\n",
        "    for batch, X in enumerate(dataloader):\n",
        "        pred = model(X)\n",
        "        loss = loss_fn(pred, X)\n",
        "\n",
        "        loss.backward()\n",
        "        optimizer.step()\n",
        "        optimizer.zero_grad()\n",
        "\n",
        "        # if batch % 100 == 0:\n",
        "        #     loss, current = loss.item(), (batch + 1) * len(X)\n",
        "        #     print(f\"loss: {loss:>7f}  [{current:>5d}/{size:>5d}]\")\n",
        "        #     accuracy = np.sum(np.argmax(pred.detach().numpy(), axis=-1) == y.detach().numpy())/len(y)\n",
        "        #     print(f\"accuracy: {accuracy}\")\n",
        "\n",
        "def test_loop(dataloader, model, loss_fn):\n",
        "    model.eval()\n",
        "    size = len(dataloader.dataset)\n",
        "    num_batches = len(dataloader)\n",
        "    test_loss, correct = 0, 0\n",
        "\n",
        "    with torch.no_grad():\n",
        "        for X in dataloader:\n",
        "            pred = model(X)\n",
        "            test_loss += loss_fn(pred, X).item()\n",
        "            correct += (pred.argmax(1) == X).type(torch.float).sum().item()\n",
        "\n",
        "    test_loss /= num_batches\n",
        "    correct /= size\n",
        "    print(f\"Test Error: \\n MSE: {(correct)}, Avg loss: {test_loss:>8f} \\n\")\n",
        "    return test_loss, correct\n",
        "\n",
        "def train(model, train_dataloader, epochs, loss_fn, optimizer):\n",
        "    accuracy_hist = []\n",
        "    loss_hist = []\n",
        "\n",
        "    for epoch in range(epochs):\n",
        "        train_loop(train_dataloader, model, loss_fn, optimizer)\n",
        "\n",
        "        # after 10 epochs check the performance of the model on the training data\n",
        "        if epoch % 10 == 0:\n",
        "          print(f\"Epoch {epoch+1}\\n-------------------------------\")\n",
        "          loss, accuracy = test_loop(train_dataloader, model, loss_fn)\n",
        "          accuracy_hist.append(accuracy)\n",
        "          loss_hist.append(loss)\n",
        "\n",
        "    print(\"Finish\")\n",
        "    return accuracy_hist, loss_hist"
      ],
      "metadata": {
        "id": "IXTCWqayi-Ii"
      },
      "execution_count": 161,
      "outputs": []
    },
    {
      "cell_type": "code",
      "source": [
        "n_qubits = 8\n",
        "dev = qml.device(\"default.qubit\", wires=n_qubits, shots=512)"
      ],
      "metadata": {
        "id": "PGjnk_Ib0_Gb"
      },
      "execution_count": 162,
      "outputs": []
    },
    {
      "cell_type": "code",
      "source": [
        "@qml.qnode(dev)\n",
        "def c1(inputs, weights):\n",
        "  data_embedding(inputs, n_qubits=8)\n",
        "  apply_weights(weights, n_qubits=8)\n",
        "\n",
        "  return qml.probs(wires=range(n_qubits))\n"
      ],
      "metadata": {
        "id": "Sv1CexOy1HtN"
      },
      "execution_count": 163,
      "outputs": []
    },
    {
      "cell_type": "code",
      "source": [
        "class Q1Layer(torch.nn.Module):\n",
        "\n",
        "    def __init__(self, circuit=None, n_qubits=8, q_depth=1):\n",
        "        super().__init__()\n",
        "        # self.qweights = torch.nn.Parameter(torch.randn(n_qubits, 2*q_depth))\n",
        "        self.qweights = torch.nn.Parameter(torch.randn(q_depth, n_qubits**2 + n_qubits))\n",
        "        self.qlayer_1 = circuit\n",
        "\n",
        "    def forward(self, input_):\n",
        "        q = self.qlayer_1(input_, self.qweights)\n",
        "        q = q.unsqueeze(0)\n",
        "        return torch.reshape(q, (1, 16, 16))"
      ],
      "metadata": {
        "id": "UNc70Ec72Lag"
      },
      "execution_count": 164,
      "outputs": []
    },
    {
      "cell_type": "code",
      "source": [
        "autoencoder = torch.nn.Sequential(\n",
        "    encoder,\n",
        "    Q1Layer(circuit=c1, n_qubits=n_qubits, q_depth=2),\n",
        "    torch.nn.Conv2d(in_channels = 1, out_channels = 5, kernel_size = 3, stride=1, padding=\"same\"),\n",
        "    torch.nn.ReLU(),\n",
        "    torch.nn.Conv2d(in_channels = 5, out_channels = 1, kernel_size = 3, stride=1, padding=\"same\"),\n",
        "    torch.nn.Sigmoid(),\n",
        ")\n",
        "\n",
        "autoencoder = autoencoder.double()"
      ],
      "metadata": {
        "id": "HNk1Hi6SJRU9"
      },
      "execution_count": 165,
      "outputs": []
    },
    {
      "cell_type": "code",
      "source": [
        "print(input_image.shape)\n",
        "out = autoencoder(torch.from_numpy(input_image))\n",
        "out.shape"
      ],
      "metadata": {
        "colab": {
          "base_uri": "https://localhost:8080/"
        },
        "id": "NQrsYt7qJ-t0",
        "outputId": "dba41bf9-a091-4432-9f93-746ce4a2d2fd"
      },
      "execution_count": 166,
      "outputs": [
        {
          "output_type": "stream",
          "name": "stdout",
          "text": [
            "(1, 16, 16)\n"
          ]
        },
        {
          "output_type": "execute_result",
          "data": {
            "text/plain": [
              "torch.Size([1, 16, 16])"
            ]
          },
          "metadata": {},
          "execution_count": 166
        }
      ]
    },
    {
      "cell_type": "code",
      "source": [
        "data = pd.read_excel('prepared_dataset.xlsx')\n",
        "data = pd.DataFrame(data).to_numpy()\n",
        "# add more 1?\n",
        "data = np.reshape(data, (len(data), 16, 16))"
      ],
      "metadata": {
        "id": "eybCDZdbKYhK"
      },
      "execution_count": 167,
      "outputs": []
    },
    {
      "cell_type": "code",
      "source": [
        "batch_size = 1"
      ],
      "metadata": {
        "id": "iEw7RFgSgyMt"
      },
      "execution_count": 168,
      "outputs": []
    },
    {
      "cell_type": "code",
      "source": [
        "train_dataloader = DataLoader(torch.from_numpy(data), batch_size=batch_size)"
      ],
      "metadata": {
        "id": "J1UkSL75cvaK"
      },
      "execution_count": 169,
      "outputs": []
    },
    {
      "cell_type": "code",
      "source": [
        "lr = 0.005\n",
        "epochs = 200"
      ],
      "metadata": {
        "id": "5_RK8DDonTVJ"
      },
      "execution_count": 170,
      "outputs": []
    },
    {
      "cell_type": "code",
      "source": [
        "# loss_fn = torch.nn.MSELoss()\n",
        "loss_fn = torch.nn.L1Loss()\n",
        "# loss_fn = torch.nn.CrossEntropyLoss()\n",
        "\n",
        "optimizer = torch.optim.Adam(autoencoder.parameters(), lr=lr)"
      ],
      "metadata": {
        "id": "5C8Pbc_0nTXc"
      },
      "execution_count": 171,
      "outputs": []
    },
    {
      "cell_type": "code",
      "source": [
        "accuracy_hist, loss_hist = train(autoencoder, train_dataloader, epochs, loss_fn, optimizer)"
      ],
      "metadata": {
        "colab": {
          "base_uri": "https://localhost:8080/"
        },
        "id": "ZqGw8Na8nTZx",
        "outputId": "eca9fc48-e089-452d-d623-5cde83ec4fef"
      },
      "execution_count": null,
      "outputs": [
        {
          "output_type": "stream",
          "name": "stdout",
          "text": [
            "Epoch 1\n",
            "-------------------------------\n",
            "Test Error: \n",
            " MSE: 85.8, Avg loss: 0.365295 \n",
            "\n"
          ]
        }
      ]
    },
    {
      "cell_type": "code",
      "source": [
        "index = 0\n",
        "plt.imshow(data[index], cmap='gray')"
      ],
      "metadata": {
        "colab": {
          "base_uri": "https://localhost:8080/",
          "height": 447
        },
        "id": "D7hhstSYc1I4",
        "outputId": "be549917-ece1-4741-9575-c7ee72084c76"
      },
      "execution_count": 132,
      "outputs": [
        {
          "output_type": "execute_result",
          "data": {
            "text/plain": [
              "<matplotlib.image.AxesImage at 0x786b561c5630>"
            ]
          },
          "metadata": {},
          "execution_count": 132
        },
        {
          "output_type": "display_data",
          "data": {
            "text/plain": [
              "<Figure size 640x480 with 1 Axes>"
            ],
            "image/png": "[encoded data removed]"
          },
          "metadata": {}
        }
      ]
    },
    {
      "cell_type": "code",
      "source": [
        "inp = np.expand_dims(data[index], axis=0)\n",
        "out = autoencoder(torch.from_numpy(inp))\n",
        "out = out.detach().numpy()\n",
        "plt.imshow(out[0], cmap='gray')"
      ],
      "metadata": {
        "colab": {
          "base_uri": "https://localhost:8080/",
          "height": 447
        },
        "id": "5VJbYWQOglyg",
        "outputId": "68c4d626-0f5e-44e8-b0c4-378a19b6af4d"
      },
      "execution_count": 134,
      "outputs": [
        {
          "output_type": "execute_result",
          "data": {
            "text/plain": [
              "<matplotlib.image.AxesImage at 0x786b5627f9a0>"
            ]
          },
          "metadata": {},
          "execution_count": 134
        },
        {
          "output_type": "display_data",
          "data": {
            "text/plain": [
              "<Figure size 640x480 with 1 Axes>"
            ],
            "image/png": "[encoded data removed]"
          },
          "metadata": {}
        }
      ]
    },
    {
      "cell_type": "code",
      "source": [
        "inp = np.expand_dims(data[2], axis=0)\n",
        "out = autoencoder(torch.from_numpy(inp))\n",
        "out = out.detach().numpy()\n",
        "plt.imshow(out[0], cmap='gray')"
      ],
      "metadata": {
        "colab": {
          "base_uri": "https://localhost:8080/",
          "height": 447
        },
        "id": "l8KlC3kEqXJz",
        "outputId": "0ee5cdef-3186-4761-94d1-2d09c398f1f3"
      },
      "execution_count": 135,
      "outputs": [
        {
          "output_type": "execute_result",
          "data": {
            "text/plain": [
              "<matplotlib.image.AxesImage at 0x786b55b49ea0>"
            ]
          },
          "metadata": {},
          "execution_count": 135
        },
        {
          "output_type": "display_data",
          "data": {
            "text/plain": [
              "<Figure size 640x480 with 1 Axes>"
            ],
            "image/png": "[encoded data removed]"
          },
          "metadata": {}
        }
      ]
    },
    {
      "cell_type": "code",
      "source": [],
      "metadata": {
        "id": "Rs0XSOUG7OZH"
      },
      "execution_count": null,
      "outputs": []
    }
  ]
}