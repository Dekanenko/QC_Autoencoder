{
  "nbformat": 4,
  "nbformat_minor": 0,
  "metadata": {
    "colab": {
      "provenance": []
    },
    "kernelspec": {
      "name": "python3",
      "display_name": "Python 3"
    },
    "language_info": {
      "name": "python"
    }
  },
  "cells": [
    {
      "cell_type": "code",
      "execution_count": 1,
      "metadata": {
        "id": "-FAbzj6GudLa",
        "colab": {
          "base_uri": "https://localhost:8080/"
        },
        "outputId": "b8dc0c47-5fcd-4892-c969-949affe4d691"
      },
      "outputs": [
        {
          "output_type": "stream",
          "name": "stdout",
          "text": [
            "Requirement already satisfied: pennylane in /usr/local/lib/python3.10/dist-packages (0.34.0)\n",
            "Requirement already satisfied: numpy in /usr/local/lib/python3.10/dist-packages (from pennylane) (1.23.5)\n",
            "Requirement already satisfied: scipy in /usr/local/lib/python3.10/dist-packages (from pennylane) (1.11.4)\n",
            "Requirement already satisfied: networkx in /usr/local/lib/python3.10/dist-packages (from pennylane) (3.2.1)\n",
            "Requirement already satisfied: rustworkx in /usr/local/lib/python3.10/dist-packages (from pennylane) (0.14.0)\n",
            "Requirement already satisfied: autograd in /usr/local/lib/python3.10/dist-packages (from pennylane) (1.6.2)\n",
            "Requirement already satisfied: toml in /usr/local/lib/python3.10/dist-packages (from pennylane) (0.10.2)\n",
            "Requirement already satisfied: appdirs in /usr/local/lib/python3.10/dist-packages (from pennylane) (1.4.4)\n",
            "Requirement already satisfied: semantic-version>=2.7 in /usr/local/lib/python3.10/dist-packages (from pennylane) (2.10.0)\n",
            "Requirement already satisfied: autoray>=0.6.1 in /usr/local/lib/python3.10/dist-packages (from pennylane) (0.6.8)\n",
            "Requirement already satisfied: cachetools in /usr/local/lib/python3.10/dist-packages (from pennylane) (5.3.2)\n",
            "Requirement already satisfied: pennylane-lightning>=0.34 in /usr/local/lib/python3.10/dist-packages (from pennylane) (0.34.0)\n",
            "Requirement already satisfied: requests in /usr/local/lib/python3.10/dist-packages (from pennylane) (2.31.0)\n",
            "Requirement already satisfied: typing-extensions in /usr/local/lib/python3.10/dist-packages (from pennylane) (4.5.0)\n",
            "Requirement already satisfied: future>=0.15.2 in /usr/local/lib/python3.10/dist-packages (from autograd->pennylane) (0.18.3)\n",
            "Requirement already satisfied: charset-normalizer<4,>=2 in /usr/local/lib/python3.10/dist-packages (from requests->pennylane) (3.3.2)\n",
            "Requirement already satisfied: idna<4,>=2.5 in /usr/local/lib/python3.10/dist-packages (from requests->pennylane) (3.6)\n",
            "Requirement already satisfied: urllib3<3,>=1.21.1 in /usr/local/lib/python3.10/dist-packages (from requests->pennylane) (2.0.7)\n",
            "Requirement already satisfied: certifi>=2017.4.17 in /usr/local/lib/python3.10/dist-packages (from requests->pennylane) (2023.11.17)\n"
          ]
        }
      ],
      "source": [
        "!pip install pennylane"
      ]
    },
    {
      "cell_type": "code",
      "source": [
        "import numpy as np\n",
        "import pennylane as qml\n",
        "import torch\n",
        "\n",
        "import matplotlib.pyplot as plt\n",
        "\n",
        "import pandas as pd\n",
        "from torch.utils.data import DataLoader"
      ],
      "metadata": {
        "id": "A_eqi5Pzv2pA"
      },
      "execution_count": 2,
      "outputs": []
    },
    {
      "cell_type": "code",
      "source": [
        "def data_shape_transform(data, n_qubits=8):\n",
        "  data = torch.reshape(data, (-1, 1))\n",
        "  out = []\n",
        "  col_num = int(np.ceil(len(data)/n_qubits))\n",
        "  for i in range(n_qubits):\n",
        "    tmp = []\n",
        "    for j in range(col_num):\n",
        "      if i*col_num+j >= len(data):\n",
        "        break\n",
        "\n",
        "      tmp.append(data[i*col_num+j])\n",
        "\n",
        "    out.append(tmp)\n",
        "\n",
        "  # print(out)\n",
        "  return out, len(data)\n",
        "\n",
        "def data_embedding(data, n_qubits=8):\n",
        "  data, data_len = data_shape_transform(data, n_qubits=n_qubits)\n",
        "\n",
        "  flag = 1\n",
        "  col_num = int(np.ceil(data_len/n_qubits))\n",
        "  qml.broadcast(qml.Hadamard, wires=range(n_qubits), pattern=\"single\")\n",
        "\n",
        "  for j in range(col_num):\n",
        "    for i in range(n_qubits):\n",
        "      if i*col_num+j >= data_len:\n",
        "        break\n",
        "\n",
        "      if flag == 1:\n",
        "        qml.RZ(data[i][j], wires=i)\n",
        "      else:\n",
        "        qml.RX(data[i][j], wires=i)\n",
        "\n",
        "    flag *= -1\n",
        "\n",
        "\n",
        "def apply_weights(weights, n_qubits=8):\n",
        "  for i in range(len(weights)):\n",
        "\n",
        "    for j in range(n_qubits):\n",
        "      qml.RZ(weights[i][j], wires=j)\n",
        "\n",
        "    index = j\n",
        "    flag = 1\n",
        "    for k in range(n_qubits):\n",
        "      for j in range(n_qubits):\n",
        "        if k == j:\n",
        "          continue\n",
        "        index += 1\n",
        "        if flag == 1:\n",
        "          qml.CRX(weights[i][index], wires=[k, j])\n",
        "        else:\n",
        "          qml.CRY(weights[i][index], wires=[k, j])\n",
        "\n",
        "      flag *= -1\n",
        "\n",
        "    for j in range(n_qubits):\n",
        "      qml.RZ(weights[i][index+j], wires=j)"
      ],
      "metadata": {
        "id": "9fgHgMBBv-qF"
      },
      "execution_count": 4,
      "outputs": []
    },
    {
      "cell_type": "code",
      "source": [
        "def train_loop(dataloader, model, loss_fn, optimizer):\n",
        "    size = len(dataloader.dataset)\n",
        "    model.train()\n",
        "    for batch, X in enumerate(dataloader):\n",
        "        optimizer.zero_grad()\n",
        "        pred = model(X)\n",
        "        loss = loss_fn(pred, X)\n",
        "\n",
        "        loss.backward()\n",
        "        optimizer.step()\n",
        "\n",
        "def test_loop(dataloader, model, loss_fn):\n",
        "    model.eval()\n",
        "    size = len(dataloader.dataset)\n",
        "    num_batches = len(dataloader)\n",
        "    test_loss, correct = 0, 0\n",
        "\n",
        "    with torch.no_grad():\n",
        "        for X in dataloader:\n",
        "            pred = model(X)\n",
        "            test_loss += loss_fn(pred, X).item()\n",
        "\n",
        "    test_loss /= num_batches\n",
        "    print(f\"Avg loss: {test_loss:>8f} \\n\")\n",
        "    return test_loss\n",
        "\n",
        "def train(model, train_dataloader, epochs, loss_fn, optimizer):\n",
        "    accuracy_hist = []\n",
        "    loss_hist = []\n",
        "\n",
        "    for epoch in range(epochs):\n",
        "        train_loop(train_dataloader, model, loss_fn, optimizer)\n",
        "        if epoch % 1 == 0:\n",
        "          print(f\"Epoch {epoch+1}\\n-------------------------------\")\n",
        "          loss = test_loop(train_dataloader, model, loss_fn)\n",
        "          loss_hist.append(loss)\n",
        "\n",
        "    print(\"Finish\")\n",
        "    return accuracy_hist, loss_hist"
      ],
      "metadata": {
        "id": "G_4qYvl2v-yH"
      },
      "execution_count": 5,
      "outputs": []
    },
    {
      "cell_type": "code",
      "source": [
        "n_qubits = 8\n",
        "dev = qml.device(\"default.qubit\", wires=n_qubits)"
      ],
      "metadata": {
        "id": "5p7jqLhpv-0L"
      },
      "execution_count": 6,
      "outputs": []
    },
    {
      "cell_type": "code",
      "source": [
        "@qml.qnode(dev, interface=\"torch\")\n",
        "def c1(inputs, weights):\n",
        "  data_embedding(inputs, n_qubits=8)\n",
        "  apply_weights(weights, n_qubits=8)\n",
        "\n",
        "  return qml.probs(wires=range(n_qubits))"
      ],
      "metadata": {
        "id": "iucqH_7rwrpe"
      },
      "execution_count": 7,
      "outputs": []
    },
    {
      "cell_type": "code",
      "source": [
        "class Q1Layer(torch.nn.Module):\n",
        "\n",
        "    def __init__(self, circuit=None, n_qubits=8, q_depth=1):\n",
        "        super().__init__()\n",
        "\n",
        "        n_args = (q_depth, n_qubits**2 + n_qubits)\n",
        "        weight_shapes = {\"weights\": n_args}\n",
        "        self.qlayer_1 = qml.qnn.TorchLayer(circuit, weight_shapes)\n",
        "\n",
        "    def forward(self, input_):\n",
        "        q = self.qlayer_1(inputs=input_[0])\n",
        "        q = q.unsqueeze(0)\n",
        "        q = torch.reshape(q, (1, 16, 16))\n",
        "        return q"
      ],
      "metadata": {
        "id": "HfbG4Yerwrri"
      },
      "execution_count": 8,
      "outputs": []
    },
    {
      "cell_type": "code",
      "source": [
        "data = pd.read_excel('prepared_dataset.xlsx')\n",
        "data = pd.DataFrame(data).to_numpy()\n",
        "\n",
        "data = np.reshape(data, (len(data), 16, 16))\n",
        "\n",
        "batch_size = 1\n",
        "data = torch.tensor(data, requires_grad=True).float()\n",
        "train_dataloader = DataLoader(data, batch_size=batch_size)"
      ],
      "metadata": {
        "id": "DccCoG4Y38g6"
      },
      "execution_count": 9,
      "outputs": []
    },
    {
      "cell_type": "code",
      "source": [
        "model = torch.nn.Sequential(\n",
        "    torch.nn.Conv2d(in_channels = 1, out_channels = 16, kernel_size = 3, stride=1, padding=\"valid\"),\n",
        "    torch.nn.ReLU(),\n",
        "    torch.nn.Conv2d(in_channels = 16, out_channels = 16, kernel_size = 3, stride=1, padding=\"valid\"),\n",
        "    torch.nn.ReLU(),\n",
        "    torch.nn.Conv2d(in_channels = 16, out_channels = 8, kernel_size = 5, stride=1, padding=\"valid\"),\n",
        "    torch.nn.ReLU(),\n",
        "    torch.nn.Conv2d(in_channels = 8, out_channels = 5, kernel_size = 3, stride=1, padding=\"valid\"),\n",
        "    torch.nn.ReLU(),\n",
        "    torch.nn.Flatten(),\n",
        "\n",
        "    Q1Layer(circuit=c1, n_qubits=8, q_depth=10),\n",
        "\n",
        "    torch.nn.Conv2d(in_channels = 1, out_channels = 8, kernel_size = 3, stride=1, padding=\"same\"),\n",
        "    torch.nn.ReLU(),\n",
        "    torch.nn.Conv2d(in_channels = 8, out_channels = 1, kernel_size = 3, stride=1, padding=\"same\"),\n",
        "    torch.nn.ReLU()\n",
        ")\n",
        "\n",
        "for param in model.parameters():\n",
        "  param.requires_grad = True"
      ],
      "metadata": {
        "id": "yYfEpTAzwxCi"
      },
      "execution_count": 10,
      "outputs": []
    },
    {
      "cell_type": "code",
      "source": [
        "lr = 0.008\n",
        "epochs = 150"
      ],
      "metadata": {
        "id": "31qT3j5CxS3W"
      },
      "execution_count": 11,
      "outputs": []
    },
    {
      "cell_type": "code",
      "source": [
        "optimizer = torch.optim.Adam(model.parameters(), lr=lr)\n",
        "scheduler = torch.optim.lr_scheduler.ExponentialLR(optimizer, gamma=0.99)\n",
        "loss_fn = torch.nn.L1Loss()"
      ],
      "metadata": {
        "id": "1rc-v4muxS5t"
      },
      "execution_count": 12,
      "outputs": []
    },
    {
      "cell_type": "code",
      "source": [
        "for epoch in range(epochs):\n",
        "\n",
        "    running_loss = 0\n",
        "    size = len(train_dataloader)\n",
        "\n",
        "    for x in train_dataloader:\n",
        "        optimizer.zero_grad()\n",
        "\n",
        "        loss_evaluated = loss_fn(model(x), x)\n",
        "        loss_evaluated.backward()\n",
        "\n",
        "        optimizer.step()\n",
        "\n",
        "        running_loss += loss_evaluated\n",
        "\n",
        "    scheduler.step()\n",
        "    avg_loss = running_loss/size\n",
        "    print(\"Average loss over epoch {}: {:.4f}\".format(epoch + 1, avg_loss))"
      ],
      "metadata": {
        "colab": {
          "base_uri": "https://localhost:8080/"
        },
        "id": "pkvRYKEjxi0-",
        "outputId": "72befaac-3909-49f2-bbaf-84147256ef34"
      },
      "execution_count": 14,
      "outputs": [
        {
          "output_type": "stream",
          "name": "stdout",
          "text": [
            "Average loss over epoch 1: 0.2441\n",
            "Average loss over epoch 2: 0.2395\n",
            "Average loss over epoch 3: 0.2352\n",
            "Average loss over epoch 4: 0.2306\n",
            "Average loss over epoch 5: 0.2262\n",
            "Average loss over epoch 6: 0.2234\n",
            "Average loss over epoch 7: 0.2194\n",
            "Average loss over epoch 8: 0.2180\n",
            "Average loss over epoch 9: 0.2134\n",
            "Average loss over epoch 10: 0.2106\n",
            "Average loss over epoch 11: 0.2061\n",
            "Average loss over epoch 12: 0.2004\n",
            "Average loss over epoch 13: 0.1957\n",
            "Average loss over epoch 14: 0.1910\n",
            "Average loss over epoch 15: 0.1856\n",
            "Average loss over epoch 16: 0.1813\n",
            "Average loss over epoch 17: 0.1765\n",
            "Average loss over epoch 18: 0.1727\n",
            "Average loss over epoch 19: 0.1679\n",
            "Average loss over epoch 20: 0.1641\n",
            "Average loss over epoch 21: 0.1601\n",
            "Average loss over epoch 22: 0.1559\n",
            "Average loss over epoch 23: 0.1525\n",
            "Average loss over epoch 24: 0.1492\n",
            "Average loss over epoch 25: 0.1462\n",
            "Average loss over epoch 26: 0.1424\n",
            "Average loss over epoch 27: 0.1391\n",
            "Average loss over epoch 28: 0.1368\n",
            "Average loss over epoch 29: 0.1333\n",
            "Average loss over epoch 30: 0.1303\n",
            "Average loss over epoch 31: 0.1280\n",
            "Average loss over epoch 32: 0.1252\n",
            "Average loss over epoch 33: 0.1227\n",
            "Average loss over epoch 34: 0.1161\n",
            "Average loss over epoch 35: 0.1146\n",
            "Average loss over epoch 36: 0.1097\n",
            "Average loss over epoch 37: 0.1070\n",
            "Average loss over epoch 38: 0.1064\n",
            "Average loss over epoch 39: 0.1007\n",
            "Average loss over epoch 40: 0.0987\n",
            "Average loss over epoch 41: 0.0952\n",
            "Average loss over epoch 42: 0.0937\n",
            "Average loss over epoch 43: 0.0952\n",
            "Average loss over epoch 44: 0.0916\n",
            "Average loss over epoch 45: 0.0934\n",
            "Average loss over epoch 46: 0.0843\n",
            "Average loss over epoch 47: 0.0832\n",
            "Average loss over epoch 48: 0.0792\n",
            "Average loss over epoch 49: 0.0759\n",
            "Average loss over epoch 50: 0.0771\n",
            "Average loss over epoch 51: 0.0776\n",
            "Average loss over epoch 52: 0.0823\n",
            "Average loss over epoch 53: 0.0731\n",
            "Average loss over epoch 54: 0.0753\n",
            "Average loss over epoch 55: 0.0710\n",
            "Average loss over epoch 56: 0.0679\n",
            "Average loss over epoch 57: 0.0710\n",
            "Average loss over epoch 58: 0.0665\n",
            "Average loss over epoch 59: 0.0656\n",
            "Average loss over epoch 60: 0.0624\n",
            "Average loss over epoch 61: 0.0626\n",
            "Average loss over epoch 62: 0.0593\n",
            "Average loss over epoch 63: 0.0630\n",
            "Average loss over epoch 64: 0.0585\n",
            "Average loss over epoch 65: 0.0606\n",
            "Average loss over epoch 66: 0.0568\n",
            "Average loss over epoch 67: 0.0556\n",
            "Average loss over epoch 68: 0.0546\n",
            "Average loss over epoch 69: 0.0546\n",
            "Average loss over epoch 70: 0.0533\n",
            "Average loss over epoch 71: 0.0543\n",
            "Average loss over epoch 72: 0.0528\n",
            "Average loss over epoch 73: 0.0544\n",
            "Average loss over epoch 74: 0.0516\n",
            "Average loss over epoch 75: 0.0520\n",
            "Average loss over epoch 76: 0.0498\n",
            "Average loss over epoch 77: 0.0516\n",
            "Average loss over epoch 78: 0.0490\n",
            "Average loss over epoch 79: 0.0502\n",
            "Average loss over epoch 80: 0.0489\n",
            "Average loss over epoch 81: 0.0497\n",
            "Average loss over epoch 82: 0.0479\n",
            "Average loss over epoch 83: 0.0513\n",
            "Average loss over epoch 84: 0.0511\n",
            "Average loss over epoch 85: 0.0513\n",
            "Average loss over epoch 86: 0.0476\n",
            "Average loss over epoch 87: 0.0471\n",
            "Average loss over epoch 88: 0.0459\n",
            "Average loss over epoch 89: 0.0460\n",
            "Average loss over epoch 90: 0.0446\n",
            "Average loss over epoch 91: 0.0445\n",
            "Average loss over epoch 92: 0.0435\n",
            "Average loss over epoch 93: 0.0436\n",
            "Average loss over epoch 94: 0.0433\n",
            "Average loss over epoch 95: 0.0430\n",
            "Average loss over epoch 96: 0.0429\n",
            "Average loss over epoch 97: 0.0434\n",
            "Average loss over epoch 98: 0.0432\n",
            "Average loss over epoch 99: 0.0419\n",
            "Average loss over epoch 100: 0.0422\n",
            "Average loss over epoch 101: 0.0424\n",
            "Average loss over epoch 102: 0.0421\n",
            "Average loss over epoch 103: 0.0411\n",
            "Average loss over epoch 104: 0.0412\n",
            "Average loss over epoch 105: 0.0418\n",
            "Average loss over epoch 106: 0.0407\n",
            "Average loss over epoch 107: 0.0401\n",
            "Average loss over epoch 108: 0.0404\n",
            "Average loss over epoch 109: 0.0403\n",
            "Average loss over epoch 110: 0.0403\n",
            "Average loss over epoch 111: 0.0404\n",
            "Average loss over epoch 112: 0.0403\n",
            "Average loss over epoch 113: 0.0408\n",
            "Average loss over epoch 114: 0.0396\n",
            "Average loss over epoch 115: 0.0396\n",
            "Average loss over epoch 116: 0.0396\n",
            "Average loss over epoch 117: 0.0395\n",
            "Average loss over epoch 118: 0.0396\n",
            "Average loss over epoch 119: 0.0393\n",
            "Average loss over epoch 120: 0.0398\n",
            "Average loss over epoch 121: 0.0394\n",
            "Average loss over epoch 122: 0.0395\n",
            "Average loss over epoch 123: 0.0386\n",
            "Average loss over epoch 124: 0.0383\n",
            "Average loss over epoch 125: 0.0390\n",
            "Average loss over epoch 126: 0.0389\n",
            "Average loss over epoch 127: 0.0393\n",
            "Average loss over epoch 128: 0.0398\n",
            "Average loss over epoch 129: 0.0395\n",
            "Average loss over epoch 130: 0.0385\n",
            "Average loss over epoch 131: 0.0383\n",
            "Average loss over epoch 132: 0.0389\n",
            "Average loss over epoch 133: 0.0388\n",
            "Average loss over epoch 134: 0.0383\n",
            "Average loss over epoch 135: 0.0385\n",
            "Average loss over epoch 136: 0.0385\n",
            "Average loss over epoch 137: 0.0379\n",
            "Average loss over epoch 138: 0.0378\n",
            "Average loss over epoch 139: 0.0376\n",
            "Average loss over epoch 140: 0.0377\n",
            "Average loss over epoch 141: 0.0375\n",
            "Average loss over epoch 142: 0.0378\n",
            "Average loss over epoch 143: 0.0377\n",
            "Average loss over epoch 144: 0.0375\n",
            "Average loss over epoch 145: 0.0374\n",
            "Average loss over epoch 146: 0.0376\n",
            "Average loss over epoch 147: 0.0378\n",
            "Average loss over epoch 148: 0.0379\n",
            "Average loss over epoch 149: 0.0372\n",
            "Average loss over epoch 150: 0.0371\n"
          ]
        }
      ]
    },
    {
      "cell_type": "code",
      "source": [
        "test_loop(train_dataloader, model, loss_fn)"
      ],
      "metadata": {
        "colab": {
          "base_uri": "https://localhost:8080/"
        },
        "id": "koKGC1oJx58b",
        "outputId": "e2bdebd5-6fa4-493e-d42c-8f8d51b21e31"
      },
      "execution_count": 15,
      "outputs": [
        {
          "output_type": "stream",
          "name": "stdout",
          "text": [
            "Avg loss: 0.036557 \n",
            "\n"
          ]
        },
        {
          "output_type": "execute_result",
          "data": {
            "text/plain": [
              "0.03655661642551422"
            ]
          },
          "metadata": {},
          "execution_count": 15
        }
      ]
    },
    {
      "cell_type": "code",
      "source": [
        "index = 1\n",
        "plt.imshow(data[index].detach().numpy(), cmap='gray')"
      ],
      "metadata": {
        "colab": {
          "base_uri": "https://localhost:8080/",
          "height": 447
        },
        "id": "CAABRtYDymyX",
        "outputId": "becf4494-5a24-49b6-bc60-fa43631b371a"
      },
      "execution_count": 19,
      "outputs": [
        {
          "output_type": "execute_result",
          "data": {
            "text/plain": [
              "<matplotlib.image.AxesImage at 0x7e6c1ad763b0>"
            ]
          },
          "metadata": {},
          "execution_count": 19
        },
        {
          "output_type": "display_data",
          "data": {
            "text/plain": [
              "<Figure size 640x480 with 1 Axes>"
            ],
            "image/png": "[encoded data removed]"
          },
          "metadata": {}
        }
      ]
    },
    {
      "cell_type": "code",
      "source": [
        "out = model(data[index].expand(1, 16, 16))\n",
        "out = torch.reshape(out, (16, 16))\n",
        "\n",
        "plt.imshow(out.detach().numpy(), cmap='gray')"
      ],
      "metadata": {
        "colab": {
          "base_uri": "https://localhost:8080/",
          "height": 447
        },
        "id": "_jX0bORSy3d9",
        "outputId": "45507053-5f5b-4cdf-9807-63440eb2a244"
      },
      "execution_count": 20,
      "outputs": [
        {
          "output_type": "execute_result",
          "data": {
            "text/plain": [
              "<matplotlib.image.AxesImage at 0x7e6c18c67e80>"
            ]
          },
          "metadata": {},
          "execution_count": 20
        },
        {
          "output_type": "display_data",
          "data": {
            "text/plain": [
              "<Figure size 640x480 with 1 Axes>"
            ],
            "image/png": "[encoded data removed]"
          },
          "metadata": {}
        }
      ]
    },
    {
      "cell_type": "code",
      "source": [],
      "metadata": {
        "id": "v9m98SzRzcNc"
      },
      "execution_count": 59,
      "outputs": []
    },
    {
      "cell_type": "code",
      "source": [],
      "metadata": {
        "id": "z2PKB8kdz8T2"
      },
      "execution_count": null,
      "outputs": []
    }
  ]
}