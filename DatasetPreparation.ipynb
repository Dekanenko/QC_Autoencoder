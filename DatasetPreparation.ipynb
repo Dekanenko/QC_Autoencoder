{
 "cells": [
  {
   "cell_type": "code",
   "execution_count": 14,
   "id": "1dad1da2",
   "metadata": {},
   "outputs": [],
   "source": [
    "import numpy as np\n",
    "import xlsxwriter\n",
    "\n",
    "import matplotlib.pyplot as plt\n",
    "from PIL import Image"
   ]
  },
  {
   "cell_type": "code",
   "execution_count": 12,
   "id": "6b55d6da",
   "metadata": {},
   "outputs": [
    {
     "data": {
      "image/png": "[encoded data removed]",
      "text/plain": [
       "<Figure size 432x288 with 1 Axes>"
      ]
     },
     "metadata": {
      "needs_background": "light"
     },
     "output_type": "display_data"
    }
   ],
   "source": [
    "image = Image.open(\"images/5.png\").convert('L')\n",
    "# process image\n",
    "input_image = image.resize((16, 16))\n",
    "input_image = np.array(input_image)\n",
    "input_image = (input_image - np.min(input_image))/(np.max(input_image) - np.min(input_image))\n",
    "\n",
    "plt.imshow(input_image, cmap='gray')\n",
    "input_image = np.expand_dims(input_image, axis=0)"
   ]
  },
  {
   "cell_type": "code",
   "execution_count": 41,
   "id": "97695c2a",
   "metadata": {},
   "outputs": [],
   "source": [
    "img_num = 5\n",
    "img_shape = (16, 16)\n",
    "file = \"prepared_dataset.xlsx\""
   ]
  },
  {
   "cell_type": "code",
   "execution_count": 42,
   "id": "822decb2",
   "metadata": {},
   "outputs": [],
   "source": [
    "workbook = xlsxwriter.Workbook(file)\n",
    "worksheet = workbook.add_worksheet(\"Dataset\")"
   ]
  },
  {
   "cell_type": "code",
   "execution_count": 43,
   "id": "05d29883",
   "metadata": {},
   "outputs": [],
   "source": [
    "for i in range(1, img_num+1):\n",
    "    img_file_name = \"images/\" + str(i) + \".png\"\n",
    "    image = Image.open(img_file_name).convert('L')\n",
    "    \n",
    "    input_image = image.resize(img_shape)\n",
    "    input_image = np.array(input_image)\n",
    "    input_image = (input_image - np.min(input_image))/(np.max(input_image) - np.min(input_image))\n",
    "    input_image = np.reshape(input_image, (-1))\n",
    "    worksheet.write_row(i, 0, input_image)\n",
    "\n",
    "workbook.close()"
   ]
  },
  {
   "cell_type": "code",
   "execution_count": null,
   "id": "4297b3bf",
   "metadata": {},
   "outputs": [],
   "source": []
  }
 ],
 "metadata": {
  "kernelspec": {
   "display_name": "Python 3 (ipykernel)",
   "language": "python",
   "name": "python3"
  },
  "language_info": {
   "codemirror_mode": {
    "name": "ipython",
    "version": 3
   },
   "file_extension": ".py",
   "mimetype": "text/x-python",
   "name": "python",
   "nbconvert_exporter": "python",
   "pygments_lexer": "ipython3",
   "version": "3.9.5"
  }
 },
 "nbformat": 4,
 "nbformat_minor": 5
}
